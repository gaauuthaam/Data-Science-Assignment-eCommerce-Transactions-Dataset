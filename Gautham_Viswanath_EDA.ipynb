{
 "cells": [
  {
   "cell_type": "markdown",
   "id": "cf9dd971",
   "metadata": {},
   "source": [
    "Import necessary libraries :"
   ]
  },
  {
   "cell_type": "code",
   "execution_count": null,
   "id": "654c7881",
   "metadata": {},
   "outputs": [],
   "source": [
    "import pandas as pd\n",
    "import matplotlib.pyplot as plt\n",
    "import seaborn as sns"
   ]
  },
  {
   "cell_type": "markdown",
   "id": "dbab2f56",
   "metadata": {},
   "source": [
    "Load datasets :"
   ]
  },
  {
   "cell_type": "code",
   "execution_count": null,
   "id": "05fa9f3f",
   "metadata": {},
   "outputs": [],
   "source": [
    "customers = pd.read_csv(\"Customers.csv\")\n",
    "products = pd.read_csv(\"Products.csv\")\n",
    "transactions = pd.read_csv(\"Transactions.csv\")"
   ]
  },
  {
   "cell_type": "markdown",
   "id": "0e45d7ec",
   "metadata": {},
   "source": [
    "Convert date columns to datetime :"
   ]
  },
  {
   "cell_type": "code",
   "execution_count": null,
   "id": "9b09ba4c",
   "metadata": {},
   "outputs": [],
   "source": [
    "customers['SignupDate'] = pd.to_datetime(customers['SignupDate'])\n",
    "transactions['TransactionDate'] = pd.to_datetime(transactions['TransactionDate'])"
   ]
  },
  {
   "cell_type": "markdown",
   "id": "013a71bf",
   "metadata": {},
   "source": [
    "1. Overview of datasets :"
   ]
  },
  {
   "cell_type": "code",
   "execution_count": null,
   "id": "08fcb006",
   "metadata": {},
   "outputs": [],
   "source": [
    "print(\"Customers Dataset Overview\")\n",
    "print(customers.info())\n",
    "print(customers.describe(include='all'))"
   ]
  },
  {
   "cell_type": "code",
   "execution_count": null,
   "id": "b509f0c7",
   "metadata": {},
   "outputs": [],
   "source": [
    "print(\"\\nProducts Dataset Overview\")\n",
    "print(products.info())\n",
    "print(products.describe(include='all'))"
   ]
  },
  {
   "cell_type": "code",
   "execution_count": null,
   "id": "35dfd29c",
   "metadata": {},
   "outputs": [],
   "source": [
    "print(\"\\nTransactions Dataset Overview\")\n",
    "print(transactions.info())\n",
    "print(transactions.describe(include='all'))"
   ]
  },
  {
   "cell_type": "markdown",
   "id": "a761cb8a",
   "metadata": {},
   "source": [
    "2. Missing Values Check (Ensure Data Integrity) :"
   ]
  },
  {
   "cell_type": "code",
   "execution_count": null,
   "id": "b600eb28",
   "metadata": {},
   "outputs": [],
   "source": [
    "print(\"\\nMissing Values:\")\n",
    "print(\"Customers:\\n\", customers.isnull().sum())\n",
    "print(\"Products:\\n\", products.isnull().sum())\n",
    "print(\"Transactions:\\n\", transactions.isnull().sum())"
   ]
  },
  {
   "cell_type": "markdown",
   "id": "1d6afefc",
   "metadata": {},
   "source": [
    "3. Basic Analysis (Analyzes unique counts, revenue, and transaction details) :"
   ]
  },
  {
   "cell_type": "markdown",
   "id": "02f94f80",
   "metadata": {},
   "source": [
    "Customers :"
   ]
  },
  {
   "cell_type": "code",
   "execution_count": null,
   "id": "42be0d4e",
   "metadata": {},
   "outputs": [],
   "source": [
    "print(\"\\nNumber of unique customers:\", customers['CustomerID'].nunique())\n",
    "print(customers['Region'].value_counts())"
   ]
  },
  {
   "cell_type": "markdown",
   "id": "71b28d8a",
   "metadata": {},
   "source": [
    "Products :"
   ]
  },
  {
   "cell_type": "code",
   "execution_count": null,
   "id": "99271beb",
   "metadata": {},
   "outputs": [],
   "source": [
    "print(\"\\nNumber of unique products:\", products['ProductID'].nunique())\n",
    "print(products['Category'].value_counts())"
   ]
  },
  {
   "cell_type": "markdown",
   "id": "fe8348e5",
   "metadata": {},
   "source": [
    "Transactions :"
   ]
  },
  {
   "cell_type": "code",
   "execution_count": null,
   "id": "4f12d809",
   "metadata": {},
   "outputs": [],
   "source": [
    "print(\"\\nNumber of transactions:\", transactions['TransactionID'].nunique())\n",
    "print(\"Total revenue generated: $\", transactions['TotalValue'].sum())\n",
    "print(\"Average transaction value: $\", transactions['TotalValue'].mean())"
   ]
  },
  {
   "cell_type": "markdown",
   "id": "7a934357",
   "metadata": {},
   "source": [
    "4. Visualizations :"
   ]
  },
  {
   "cell_type": "markdown",
   "id": "5aa4a86f",
   "metadata": {},
   "source": [
    "Top 10 Products by Revenue :"
   ]
  },
  {
   "cell_type": "markdown",
   "id": "40176191",
   "metadata": {},
   "source": [
    "Customers by Region :"
   ]
  },
  {
   "cell_type": "code",
   "execution_count": null,
   "id": "e4244e89",
   "metadata": {},
   "outputs": [],
   "source": [
    "plt.figure(figsize=(8, 5))\n",
    "sns.countplot(data=customers, x='Region', palette='viridis')\n",
    "plt.title(\"Customer Count by Region\")\n",
    "plt.xlabel(\"Region\")\n",
    "plt.ylabel(\"Count\")\n",
    "plt.show()"
   ]
  },
  {
   "cell_type": "markdown",
   "id": "1c0ba9fb",
   "metadata": {},
   "source": [
    "Top 10 Products by Revenue :"
   ]
  },
  {
   "cell_type": "code",
   "execution_count": null,
   "id": "ec22e5d0",
   "metadata": {},
   "outputs": [],
   "source": [
    "top_products = (transactions.groupby('ProductID')['TotalValue']\n",
    "                .sum()\n",
    "                .reset_index()\n",
    "                .merge(products, on='ProductID')\n",
    "                .sort_values(by='TotalValue', ascending=False)\n",
    "                .head(10))\n",
    "plt.figure(figsize=(10, 5))\n",
    "sns.barplot(data=top_products, y='ProductName', x='TotalValue', palette='magma')\n",
    "plt.title(\"Top 10 Products by Revenue\")\n",
    "plt.xlabel(\"Revenue ($)\")\n",
    "plt.ylabel(\"Product Name\")\n",
    "plt.show()"
   ]
  },
  {
   "cell_type": "markdown",
   "id": "3196d87d",
   "metadata": {},
   "source": [
    "Transactions Over Time :"
   ]
  },
  {
   "cell_type": "code",
   "execution_count": null,
   "id": "2e865d39",
   "metadata": {},
   "outputs": [],
   "source": [
    "transactions['TransactionDate'].dt.to_period(\"M\").value_counts().sort_index().plot(\n",
    "    kind='bar', figsize=(12, 6), color='skyblue'\n",
    ")\n",
    "plt.title(\"Monthly Transaction Count\")\n",
    "plt.xlabel(\"Month\")\n",
    "plt.ylabel(\"Number of Transactions\")\n",
    "plt.show()"
   ]
  },
  {
   "cell_type": "markdown",
   "id": "46a7a7e8",
   "metadata": {},
   "source": [
    "5. Derive Business Insights :"
   ]
  },
  {
   "cell_type": "code",
   "execution_count": null,
   "id": "1f70864c",
   "metadata": {},
   "outputs": [],
   "source": [
    "print(\"\\nBusiness Insights:\")\n",
    "print(\"1. Customers from {} are the majority.\".format(customers['Region'].mode()[0]))\n",
    "print(\"2. The top revenue-generating product is {}.\".format(top_products.iloc[0]['ProductName']))\n",
    "print(\"3. Total revenue generated is ${:,.2f}.\".format(transactions['TotalValue'].sum()))\n",
    "print(\"4. {} products account for the top 10% of revenue.\".format(len(top_products)))\n",
    "print(\"5. The number of transactions peaked in {}.\".format(\n",
    "    transactions['TransactionDate'].dt.to_period(\"M\").value_counts().idxmax()\n",
    "))"
   ]
  }
 ],
 "metadata": {
  "jupytext": {
   "cell_metadata_filter": "-all",
   "main_language": "python",
   "notebook_metadata_filter": "-all"
  }
 },
 "nbformat": 4,
 "nbformat_minor": 5
}
